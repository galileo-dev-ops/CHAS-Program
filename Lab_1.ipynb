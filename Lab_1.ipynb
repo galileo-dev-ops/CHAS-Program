{
  "cells": [
    {
      "cell_type": "markdown",
      "metadata": {
        "id": "view-in-github",
        "colab_type": "text"
      },
      "source": [
        "<a href=\"https://colab.research.google.com/github/galileo-dev-ops/CHAS-Program/blob/main/Lab_1.ipynb\" target=\"_parent\"><img src=\"https://colab.research.google.com/assets/colab-badge.svg\" alt=\"Open In Colab\"/></a>"
      ]
    },
    {
      "cell_type": "markdown",
      "metadata": {
        "id": "OOeadybRjC1m"
      },
      "source": [
        "\n",
        "# Lab  1: Get started with Python and Jupyter notebooks\n",
        "\n",
        "<font color=\"red\">**Deadline: Tuesday 30th January, 5pm.**</font>\n",
        "\n",
        "All of the following labs in this course will be done using <font color=\"springgreen\">Jupyter notebooks</font>. Jupyter notebooks such as the one you are currently reading are great for building up programs interactively, trying out ideas and visualizing the results. This makes them a good fit for scientific computing.\n",
        "\n",
        "We will here introduce some of the basics of the notebook system.\n"
      ]
    },
    {
      "cell_type": "markdown",
      "source": [
        "**Credit**: Written by [Gabrielle Gaudeau](https://www.cst.cam.ac.uk/people/gjg34) for the [Cambridge Higher Aspirations Scheme (CHAS)](https://www.cai.cam.ac.uk/access-outreach/caius-link-areas/cambridge-higher-aspirations-scheme) using some material from:\n",
        "1. a notebook in the [Foundations of Natural Language Processing (2021/22)](http://www.drps.ed.ac.uk/20-21/dpt/cxinfr10078.htm) course adapted by HST for Python3 from the [CS228 Python Tutorial notebook](https://github.com/kuleshov/cs228-material/blob/master/tutorials/python/cs228-python-tutorial.ipynb), and then adapted by [Volodymyr Kuleshov](http://web.stanford.edu/~kuleshov/) and [Isaac Caswell](https://symsys.stanford.edu/viewing/symsysaffiliate/21335) from the `CS231n` [Python tutorial](http://cs231n.github.io/python-numpy-tutorial/) by Justin Johnson.\n",
        "2. a notebook presented at Presented at [ISMRM 2021](https://www.ismrm.org/21m/) by [Saige Rutherford](https://www.beingsaige.com/) which adapted and forked from [Tal Yarkoni's teaching materials](https://github.com/neurohackademy/introduction-to-python)."
      ],
      "metadata": {
        "id": "gKSnfFEmqUnM"
      }
    },
    {
      "cell_type": "markdown",
      "metadata": {
        "id": "VHdHZrugjC1q"
      },
      "source": [
        "## 1. Introduction to Jupyter\n",
        "\n",
        "\n",
        "\n"
      ]
    },
    {
      "cell_type": "markdown",
      "source": [
        "### 1.1 The notebook interface\n",
        "\n",
        "1. The <font color=\"springgreen\">title</font> of the current notebook is displayed at the top left of the page and can be edited by clicking on the text of the title. **Before moving on, please make sure you have made a copy of the original notebook with your own name.** This is important, as you otherwise risk to overwrite each others work.\n",
        "\n",
        "2. On-going changes are auto-saved at regular intervals but you can use `Ctrl+S` (or `Command+S` on Mac) to manually save it. Save often. This is mainly meant as a way to recover an earlier version of a notebook after making unwanted changes. Should you wish to revert to a previous version, you can access a <font color=\"springgreen\">notebook's revision history</font> in `File > Revision History` which can be found below the title.\n",
        "\n",
        "3. On the far left of the screen below the Colaboratory logo (orange CO), you can find a vertical menu bar. Starting from the top, you can click the bulleted list icon to access the `Table of contents` which you can use to navigate the notebook. Below is the `Find and replace` function which allows you to search the notebook for words and potentially replace all occurences of a word with another. Feel free to explore the rest of the options on your own time."
      ],
      "metadata": {
        "id": "xuOe2yBOt17u"
      }
    },
    {
      "cell_type": "markdown",
      "metadata": {
        "id": "y4n7jUhJjC1r"
      },
      "source": [
        "### 1.2 Markdown cells: easy text formatting\n",
        "\n",
        "This entire introduction has been written in what is termed a <font color=\"springgreen\">Markdown cell </font> of a notebook. [Markdown](https://en.wikipedia.org/wiki/Markdown) is a lightweight markup language intended to be readable in plain-text. As you may wish to use Markdown cells to keep your own formatted notes in notebooks, you may wish to look at one of the extensive syntax guides in the future - for example [this cheatsheet](https://github.com/adam-p/markdown-here/wiki/Markdown-Cheatsheet)."
      ]
    },
    {
      "cell_type": "markdown",
      "metadata": {
        "id": "AAws6SaSjC1r"
      },
      "source": [
        "### 1.3 Code cells: in-browser code execution\n",
        "\n",
        "Up to now, we have not seen any runnable code. An example of an executable <font color=\"springgreen\">code cell</font> is below. To run it first click on the cell so that it is highlighted, then either click the play button on the left of the cell, or use the keyboard shortcut `Ctrl+Enter` (or `Shift+Enter` on Mac)."
      ]
    },
    {
      "cell_type": "code",
      "execution_count": null,
      "metadata": {
        "id": "KiKQdZ61jC1r"
      },
      "outputs": [],
      "source": [
        "print('Hello, world!')\n",
        "'And again!'"
      ]
    },
    {
      "cell_type": "markdown",
      "metadata": {
        "id": "qPmvdBXWjC1s"
      },
      "source": [
        "This example shows the three main components of a code cell:\n",
        "\n",
        "1. The most obvious is the <font color=\"springgreen\">input area</font>. This (unsurprisingly) is used to enter the code to be run which will be automatically syntax highlighted.\n",
        "\n",
        "2. To the immediate left of the input area is the <font color=\"springgreen\">execution counter</font>. Before running a code cell for the first time this will display `[ ]:`. After the cell is run, this is updated to `In [n]:` where `n` is a number corresponding to the current execution counter which is incremented whenever any code cell in the notebook is run. This can, therefore, be used to keep track of the relative order in which cells were the last run. There is no fundamental requirement to run cells in the order they are organised in the notebook, though things will usually be more readable if you keep things in roughly in order!\n",
        "\n",
        "3. Immediately below the input area is the <font color=\"springgreen\">output area</font> which has two parts. First, it shows any output produced by the code in the cell: here the first \"Hello, world!\". Below it, we have the <font color=\"springgreen\">display area</font>. By default, this will just display the returned output of the last Python statement: here the \"And again!\"."
      ]
    },
    {
      "cell_type": "markdown",
      "metadata": {
        "id": "5vBZghy7jC1t"
      },
      "source": [
        "### <font color=\"orange\">1.4 **[Optional]** Advanced notebook features</font>\n"
      ]
    },
    {
      "cell_type": "markdown",
      "source": [
        "#### <font color=\"orange\">1.4.1 Useful keyboard shortcuts<font>\n",
        "\n",
        "There are a wealth of <font color=\"springgreen\">keyboard shortcuts</font> available in the notebook interface. For an exhaustive list see the `Keyboard Shortcuts` option under the `Tools` menu. We will cover a few of those we find most useful below.\n"
      ],
      "metadata": {
        "id": "T4oAq698LHbi"
      }
    },
    {
      "cell_type": "markdown",
      "source": [
        "#### <font color=\"orange\">1.4.2 Magic</font>\n",
        "\n",
        "There are a range of <font color=\"springgreen\">magic commands</font> in Jupyter notebooks that provide helpful tools outside of the usual syntax. A full list of the inbuilt magic commands is given [here](http://ipython.readthedocs.io/en/stable/interactive/magics.html), however, three that are particularly useful for this course:\n",
        "\n",
        "  * `%%timeit` Put at the beginning of a cell to time its execution and print the resulting timing statistics ([more](http://ipython.readthedocs.io/en/stable/interactive/magics.html?highlight=matplotlib#magic-timeit))\n",
        "  * `%precision` Set the precision for pretty-printing of floating-point values and `numpy` arrays ([more](http://ipython.readthedocs.io/en/stable/interactive/magics.html?highlight=matplotlib#magic-precision)).\n",
        "  * `%debug` Activates the interactive debugger in a cell. Run after an exception has been occurred to help diagnose the issue ([more](http://ipython.readthedocs.io/en/stable/interactive/magics.html?highlight=matplotlib#magic-debug))."
      ],
      "metadata": {
        "id": "cgHvKBA8LLPg"
      }
    },
    {
      "cell_type": "markdown",
      "metadata": {
        "id": "hH567YLBjC1u"
      },
      "source": [
        "#### <font color=\"orange\">1.4.3 Going Further</font>\n",
        "\n",
        "If you feel conformable in using Python and the Jupyter notebook environment you can do one of the following:\n",
        "\n",
        "- Review your knowledge of Python by looking at the material below.\n",
        "- Head to [leetcode.come](https://leetcode.com/problems/two-sum/) and go practice your Python skills there!\n"
      ]
    },
    {
      "cell_type": "markdown",
      "metadata": {
        "id": "0MjiTBKDjC1u"
      },
      "source": [
        "## 2. Introduction to Python\n",
        "\n",
        "This lab will serve as an introduction to the <font color=\"springgreen\">Python programming language</font> (and coding if this is the first time for you), and we will introduce you to the `numpy` library. _In the next lab we will cover `matplotlib` and `pandas` which can be used for processing and visualising data._\n"
      ]
    },
    {
      "cell_type": "markdown",
      "source": [
        "### 2.1 What is Python?\n",
        "\n",
        "Python is a programming language. Specifically, it is:\n",
        "1. widely used,\n",
        "2. high-level,\n",
        "3. and general-purpose.\n",
        "\n",
        "That's a mouthful! Let's explore each of these points in more detail...\n"
      ],
      "metadata": {
        "id": "vkX8gKnt_KDe"
      }
    },
    {
      "cell_type": "markdown",
      "source": [
        "#### 2.1.1 Widely-used\n",
        "\n",
        "* Python is the fastest-growing major programming language.\n",
        "* Top 3 overall (with JavaScript, Java) [source of these rankings](https://redmonk.com/sogrady/2021/03/01/language-rankings-1-21/).\n",
        "\n",
        "<img src=\"https://redmonk.com/sogrady/files/2021/03/lang.rank_.0121.wm_.png\" width=\"800px\" style=\"margin-bottom: 10px;\">"
      ],
      "metadata": {
        "id": "YR_vOpxr_IhZ"
      }
    },
    {
      "cell_type": "markdown",
      "source": [
        "#### 2.1.2 High-level\n",
        "\n",
        "Python features a high level of abstraction:\n",
        "* Many operations that are explicit in lower-level languages (e.g., C/C++) are implicit in Python.\n",
        "* E.g., memory allocation, garbage collection, etc.\n",
        "* Python lets you write code faster (see example below).\n",
        "\n",
        "##### For e.g., File reading in <font color=\"springgreen\">Java</font> (another programming language)\n",
        "```java\n",
        "import java.io.BufferedReader;\n",
        "import java.io.FileReader;\n",
        "import java.io.IOException;\n",
        "\n",
        "public class ReadFile {\n",
        "    public static void main(String[] args) throws IOException{\n",
        "        String fileContents = readEntireFile(\"./foo.txt\");\n",
        "    }\n",
        "\n",
        "    private static String readEntireFile(String filename) throws IOException {\n",
        "        FileReader in = new FileReader(filename);\n",
        "        StringBuilder contents = new StringBuilder();\n",
        "        char[] buffer = new char[4096];\n",
        "        int read = 0;\n",
        "        do {\n",
        "            contents.append(buffer, 0, read);\n",
        "            read = in.read(buffer);\n",
        "        } while (read >= 0);\n",
        "        return contents.toString();\n",
        "    }\n",
        "}\n",
        "```\n",
        "\n",
        "##### For e.g., File-reading in Python\n",
        "```python\n",
        "open(filename).read()\n",
        "```"
      ],
      "metadata": {
        "id": "QtlDriAS_bXb"
      }
    },
    {
      "cell_type": "markdown",
      "source": [
        "#### 2.1.3 General-purpose\n",
        "\n",
        "Python is a great general-purpose programming language on its own: you can do almost everything.\n",
        "\n",
        "But with the help of a few popular libraries (for e.g., `numpy`, `matplotlib`, `pandas`) it becomes a powerful environment for scientific computing."
      ],
      "metadata": {
        "id": "crXy8NeRMo72"
      }
    },
    {
      "cell_type": "markdown",
      "metadata": {
        "id": "1CSWR0w3jC1v"
      },
      "source": [
        "### 2.2 Variables\n",
        "\n",
        "In programming, a <font color=\"springgreen\">variable</font> is just a name for a value. In Python, we declare a variable by assigning it a value with the `=` sign.\n",
        "\n",
        "\n",
        "Variable names in Python can contain <font color=\"springgreen\">alphanumerical characters</font> `a-z`, `A-Z`, `0-9` and some special characters such as `_`. By convention, variable names start with a lower-case letter.\n",
        "\n",
        "<font color=\"deeppink\">**[Exercise]**  Try storing your name in a variable. In the cell below, replace the three dots `...` below with your name and try running it (remember, you can use the `Ctrl+Enter` or `Shift+Enter` shortcut):</font>\n"
      ]
    },
    {
      "cell_type": "code",
      "source": [
        "# Your implementation here...\n",
        "name = \"...\""
      ],
      "metadata": {
        "id": "TiMTHhIzViqr"
      },
      "execution_count": null,
      "outputs": []
    },
    {
      "cell_type": "markdown",
      "source": [
        "**Notices the hash character `#`. It indicates a part of the code that should be ignored by Python and is called a <font color=\"springgreen\">comment</font>. Comments can be used to make the code more readable. Use them often!**\n"
      ],
      "metadata": {
        "id": "ytbU1wkcF0Ng"
      }
    },
    {
      "cell_type": "code",
      "source": [
        "# This is a comment.\n",
        "\n",
        "\n",
        "# This is a comment\n",
        "# written in more\n",
        "# than just one line.\n",
        "\n",
        "\n",
        "\"\"\"\n",
        "This is also a comment\n",
        "written in more\n",
        "than just one line.\n",
        "We also call this type\n",
        "of comment a docstring!\n",
        "\"\"\"\n",
        "print(f\"Hello, {name}!\") # This is also a comment."
      ],
      "metadata": {
        "id": "wBTtG-3aFz6O"
      },
      "execution_count": null,
      "outputs": []
    },
    {
      "cell_type": "markdown",
      "source": [
        "### 2.3 Data Types\n",
        "\n",
        "Variables can store data of different types, and different types can do different things."
      ],
      "metadata": {
        "id": "4BQCOksoJqmZ"
      }
    },
    {
      "cell_type": "markdown",
      "source": [
        "**Notice the quotations marks \" \" around your name when you declare the variable. These denote a <font color=\"springgreen\">string</font>.**\n"
      ],
      "metadata": {
        "id": "VXb79AeJZr-8"
      }
    },
    {
      "cell_type": "code",
      "source": [
        "print(type(name))"
      ],
      "metadata": {
        "id": "3Pgip9HUZp1e"
      },
      "execution_count": null,
      "outputs": []
    },
    {
      "cell_type": "markdown",
      "source": [
        "**Notice above that we did not need to explicitely specify the type of the `name` variable for Python to know it was a string (`str`). Python uses something called [duck typing](https://en.wikipedia.org/wiki/Duck_typing) to infer the type of variables. This is not true for all programming languages (see the Java code extract in the previous section).**\n",
        "\n",
        "\n",
        "Strings are one of the basic <font color=\"springgreen\">data types</font> and structures in Python. Others include:\n",
        "* numbers (integers, floats, etc.)\n",
        "* booleans\n",
        "* lists\n",
        "* dictionaries\n",
        "* many others!\n",
        "\n"
      ],
      "metadata": {
        "id": "v8eXarQWXT6p"
      }
    },
    {
      "cell_type": "markdown",
      "metadata": {
        "id": "OLrUMe87jC1x"
      },
      "source": [
        "#### 2.3.1 Strings\n",
        "\n",
        "Strings are a collection of alphabets, words or other characters."
      ]
    },
    {
      "cell_type": "code",
      "execution_count": null,
      "metadata": {
        "id": "OIWVuCKMjC1x"
      },
      "outputs": [],
      "source": [
        "hello = 'hello'                      # String literals can use single quotes\n",
        "world = \"world\"                      # or double quotes; it does not matter."
      ]
    },
    {
      "cell_type": "code",
      "execution_count": null,
      "metadata": {
        "id": "qvRVE3bjjC1x",
        "outputId": "1a149f08-b663-435f-80f5-27c025e9d4bc",
        "colab": {
          "base_uri": "https://localhost:8080/"
        }
      },
      "outputs": [
        {
          "output_type": "stream",
          "name": "stdout",
          "text": [
            "hello world\n"
          ]
        }
      ],
      "source": [
        "concatenation = hello + ' ' + world  # String concatenation:\n",
        "print(concatenation)                 # prints \"hello world\"."
      ]
    },
    {
      "cell_type": "code",
      "execution_count": null,
      "metadata": {
        "id": "UAKOrUaXjC1x"
      },
      "outputs": [],
      "source": [
        "formatting = f'{hello} {world}'      # String formatting:\n",
        "print(formatting)                    # prints \"hello world\"."
      ]
    },
    {
      "cell_type": "markdown",
      "source": [
        "A very useful function is `len()` which returns the length of a string (as the number of characters it contains).\n",
        "\n",
        "<font color=\"deeppink\">**[Exercise]** Print the number of characters in your name using the `len()` function in the code cell below:</font>"
      ],
      "metadata": {
        "id": "URdcFpTsOddv"
      }
    },
    {
      "cell_type": "code",
      "source": [
        "# # Your implementation here...\n",
        "print(...)"
      ],
      "metadata": {
        "id": "e-ZCoPtrOwdp"
      },
      "execution_count": null,
      "outputs": []
    },
    {
      "cell_type": "markdown",
      "metadata": {
        "id": "UNXRklpnjC1y"
      },
      "source": [
        "Strings have many more useful methods; for example:"
      ]
    },
    {
      "cell_type": "code",
      "execution_count": null,
      "metadata": {
        "id": "4Teb0Gl_jC1y"
      },
      "outputs": [],
      "source": [
        "print(hello.capitalize())     # Capitalize a string; prints \"Hello\".\n",
        "print(hello.upper())          # Convert a string to uppercase; prints \"HELLO\".\n",
        "print(hello.replace('l', '')) # Replace all instances of substring with another; here, removes all 'l' characters.\n",
        "print('  world '.strip())     # Remove leading/trailing whitespace."
      ]
    },
    {
      "cell_type": "markdown",
      "metadata": {
        "id": "rAJn7EvCjC1y"
      },
      "source": [
        "You can find a list of all string methods in the [documentation](https://docs.python.org/3/library/stdtypes.html#string-methods)."
      ]
    },
    {
      "cell_type": "markdown",
      "metadata": {
        "id": "O4A7PMRzjC1v"
      },
      "source": [
        "#### 2.3.2 Numbers\n",
        "\n",
        "<font color=\"springgreen\">Integers</font> are zero, positive or negative whole numbers without a fractional part and having unlimited precision; for e.g., 0, 100, -10."
      ]
    },
    {
      "cell_type": "code",
      "execution_count": null,
      "metadata": {
        "id": "Kqz4OYFojC1v"
      },
      "outputs": [],
      "source": [
        "x = 4\n",
        "print(type(x))"
      ]
    },
    {
      "cell_type": "markdown",
      "source": [
        "<font color=\"springgreen\">Floats</font> or floating point numbers are decimal values or fractional numbers; for e.g., 133.5, 2897.11, and 3571.213."
      ],
      "metadata": {
        "id": "Tc1S5bkBU9so"
      }
    },
    {
      "cell_type": "code",
      "source": [
        "y = 2.5\n",
        "print(type(y))"
      ],
      "metadata": {
        "id": "pK-Z1lyYVMsd"
      },
      "execution_count": null,
      "outputs": []
    },
    {
      "cell_type": "markdown",
      "source": [
        "Python also has other types of numbers (long integers, complex numbers, etc.); you can find all of the details in the [documentation](https://docs.python.org/3/library/stdtypes.html#numeric-types-int-float-long-complex)."
      ],
      "metadata": {
        "id": "6RiZPtJUjibI"
      }
    },
    {
      "cell_type": "markdown",
      "source": [
        "Basic arithmetic operations are built into Python. Here are some examples. **Notice that exponentiation is done with the** `**` **operator.**"
      ],
      "metadata": {
        "id": "G5SQN7_mT4zE"
      }
    },
    {
      "cell_type": "code",
      "execution_count": null,
      "metadata": {
        "id": "tJek4RD-jC1v"
      },
      "outputs": [],
      "source": [
        "print(x + 1)   # Addition.\n",
        "print(x - 1)   # Subtraction.\n",
        "print(x * 2)   # Multiplication.\n",
        "print(x / 2)   # Division.\n",
        "print(x ** 2)  # Exponentiation; equivalent to x*x.\n",
        "print(x % 2)   # Modulus: return the remainder when the first operand x is divided by the second.\n",
        "print(x // 2)  # Floor division: round the result down to the nearest integer."
      ]
    },
    {
      "cell_type": "markdown",
      "source": [
        "All of the above operators can be put in front of an equal sign `=` to create assignment operators which assign values to variables. For example:"
      ],
      "metadata": {
        "id": "vHt6pyiRYx4C"
      }
    },
    {
      "cell_type": "code",
      "execution_count": null,
      "metadata": {
        "id": "gXXXPCuRjC1w"
      },
      "outputs": [],
      "source": [
        "x = 4\n",
        "\n",
        "x += 1    # Increments x by 1 and store in x, equivalent to x = x + 1.\n",
        "print(x)  # Prints \"5\".\n",
        "x -= 1    # Decrements x by 1 and store in x, equivalent to x = x - 1.\n",
        "print(x)  # Prints \"4\".\n",
        "x *= 2    # Multiply x by 2 and store in x, equivalent to x = x * 2.\n",
        "print(x)  # Prints \"8\".\n",
        "x /= 2    # Divide x by 2 and store in x, equivalent to x = x / 2.\n",
        "print(x)  # Prints \"4.0\". Notice how division turns x into a float.\n",
        "x **= 2   # Exponentiate x by 2 and store in x, equivalent to x = x**2.\n",
        "print(x)  # Prints \"16.0\".\n",
        "x %= 5    # Compute the modulo of x by 5 and store in x, equivalent to x = x % 5.\n",
        "print(x)  # Prints \"1.0\".\n",
        "x //= 1   # Compute the floor division of x by 1 and store in x, equivalent to x = x // 1.\n",
        "print(x)  # Prints \"1.0\"."
      ]
    },
    {
      "cell_type": "markdown",
      "source": [
        "Note that you can `print()` any number of items in one statement by separating each item with a comma `,` as is done below:"
      ],
      "metadata": {
        "id": "mNTmxuHni1A9"
      }
    },
    {
      "cell_type": "code",
      "source": [
        "y = 2.5\n",
        "\n",
        "print(y, y + 1, y * 2, y ** 2) # Prints \"2.5 3.5 5.0 6.25\"."
      ],
      "metadata": {
        "id": "Z3vFyc6aLUas"
      },
      "execution_count": null,
      "outputs": []
    },
    {
      "cell_type": "markdown",
      "source": [
        " <font color=\"deeppink\">**[Exercise]** Which of the following statements are equivalent? Given x and y are two numbers.\n",
        "1. x = x + y\n",
        "2. y += x\n",
        "3. x += x + y\n",
        "4. x += y\n",
        "5. y = x + y\n",
        "\n",
        "</font>\n",
        "\n",
        "**Write your answer here!** Feel free to use the code cell below to help you."
      ],
      "metadata": {
        "id": "6BHYJmaCjWBX"
      }
    },
    {
      "cell_type": "code",
      "source": [
        "# Your implementation here..."
      ],
      "metadata": {
        "id": "LbMEDi6Um03H"
      },
      "execution_count": null,
      "outputs": []
    },
    {
      "cell_type": "markdown",
      "metadata": {
        "id": "eR1L_EucjC1w"
      },
      "source": [
        "#### 2.3.3 Booleans"
      ]
    },
    {
      "cell_type": "markdown",
      "metadata": {
        "id": "uA4GeZYbjC1w"
      },
      "source": [
        "A <font color=\"springgreen\">boolean</font> is a data type with two possible values: `True` or `False`. The two values represent truth conditions:"
      ]
    },
    {
      "cell_type": "code",
      "execution_count": null,
      "metadata": {
        "id": "IRCaWB6SjC1w"
      },
      "outputs": [],
      "source": [
        "t, f = True, False\n",
        "print(type(t))"
      ]
    },
    {
      "cell_type": "markdown",
      "metadata": {
        "id": "bEYQI7VtjC1w"
      },
      "source": [
        "Now we let's look at the three basic boolean operations:"
      ]
    },
    {
      "cell_type": "code",
      "execution_count": null,
      "metadata": {
        "id": "NvDxhbQxjC1w"
      },
      "outputs": [],
      "source": [
        "print(t and f) # Logical AND returns True if and only if both t and f are True.\n",
        "print(t or f)  # Logical OR returns True if at least one of t or f is True.\n",
        "print(not t)   # Logical NOT returns True if t is False."
      ]
    },
    {
      "cell_type": "markdown",
      "source": [
        "In contrast, comparison operators are used to compare two values and return boolean values:\n"
      ],
      "metadata": {
        "id": "BSDprOsDb02E"
      }
    },
    {
      "cell_type": "code",
      "source": [
        "print(t == f) # Returns True if both t and f are equal.\n",
        "print(t != f) # Returns True if both t and f are different.\n",
        "print(t > f)  # Returns True if t is strictly greater than f.\n",
        "print(t < f)  # Returns True if t is strictly less than f.\n",
        "print(t >= t) # Returns True if t is greater than f.\n",
        "print(t <= f) # Returns True if t is less than f."
      ],
      "metadata": {
        "id": "GwOQ1_xmcGG1"
      },
      "execution_count": null,
      "outputs": []
    },
    {
      "cell_type": "markdown",
      "source": [
        "**Notice here that even though `t` and `f` are booleans here, we can still compare them as we would compare two integers. This is because True has been defined as fundamentally stricly greater than False.**\n",
        "\n",
        "Take special care that the equality operator is `==` and not just `=` as we are used to in Mathematics. In Python, `=` is used to assign variable values."
      ],
      "metadata": {
        "id": "XYEZ1tdRcnnu"
      }
    },
    {
      "cell_type": "markdown",
      "source": [
        "\n",
        "\n",
        "<font color=\"deeppink\">**[Exercise]** Pick integer values for `x` and `y` such that the following code cell outputs: \"x is higher\" and \"x is equal\": </font>"
      ],
      "metadata": {
        "id": "IQz-eM6NRZtO"
      }
    },
    {
      "cell_type": "code",
      "source": [
        "# Your implementation here...\n",
        "x = ...\n",
        "y = ...\n",
        "\n",
        "res_1 = \"x is \" + (\"lower\" if x < y else \"higher\")\n",
        "res_2 = \"x is \" + (\"equal\" if x == y else \"not equal\")\n",
        "\n",
        "print(res_1)\n",
        "print(res_2)"
      ],
      "metadata": {
        "id": "G_iVPnWQRqtb"
      },
      "execution_count": null,
      "outputs": []
    },
    {
      "cell_type": "code",
      "source": [
        "# Run this cell without editing it to see if you pass the tests.\n",
        "assert res_1 == \"x is higher\"\n",
        "assert res_2 == \"x is equal\""
      ],
      "metadata": {
        "id": "jnGTCvRMI3Fx"
      },
      "execution_count": null,
      "outputs": []
    },
    {
      "cell_type": "markdown",
      "source": [
        "**Notice the `assert` statements at the bottom of the code cell. <font color=\"springgreen\">Assertions</font> are statements that state a fact that we are confident is true. You will continue to see these throughout your coding exercises: don't touch them! They are here to check whether your implementation is outputting what the exercise intended. If your output is incorrect, an error will be raised.**"
      ],
      "metadata": {
        "id": "mdDyOCDCv_zs"
      }
    },
    {
      "cell_type": "markdown",
      "source": [
        "Python follows the same precedence rules for its mathematical operators that mathematics does. Parentheses have the highest precedence and can be used to force an expression to evaluate in the order you want."
      ],
      "metadata": {
        "id": "rSxFw37raACc"
      }
    },
    {
      "cell_type": "markdown",
      "source": [
        "<font color=\"deeppink\">**[Exercise]** What precedence do Python logical operators have? Run the code cell and write your answer below it:"
      ],
      "metadata": {
        "id": "LRYwshy8ZjSv"
      }
    },
    {
      "cell_type": "code",
      "source": [
        "print(5 > 4 and not 0 > 10)\n",
        "print(5 > (4 and not 0) > 10)\n",
        "print((5 > 4) and (not (0 > 10)))"
      ],
      "metadata": {
        "id": "_Y2g6LZgZulZ"
      },
      "execution_count": null,
      "outputs": []
    },
    {
      "cell_type": "markdown",
      "source": [
        "**Write your answer here!** Keep it short (1-2 sentences)."
      ],
      "metadata": {
        "id": "z1iUPk3UaOJW"
      }
    },
    {
      "cell_type": "markdown",
      "metadata": {
        "id": "inUC4DQ_jC1z"
      },
      "source": [
        "#### 2.3.4 Lists"
      ]
    },
    {
      "cell_type": "markdown",
      "metadata": {
        "id": "n9QTDjOajC1z"
      },
      "source": [
        "A <font color=\"springgreen\">list</font> is a versatile way of organizing your data in Python. It is a sort of resizeable container that can contain elements of different types:"
      ]
    },
    {
      "cell_type": "code",
      "execution_count": null,
      "metadata": {
        "id": "4Rham_pPjC1z"
      },
      "outputs": [],
      "source": [
        "xs = [3, 1, 2]   # Create a list with three elements.\n",
        "print(xs)        # Prints \"[3, 1, 2]\"."
      ]
    },
    {
      "cell_type": "markdown",
      "source": [
        "You can access the values in a list in the following way:"
      ],
      "metadata": {
        "id": "efnHSC43fQex"
      }
    },
    {
      "cell_type": "code",
      "source": [
        "print(xs[0])    # Returns the first element with index 0: Python starts counting at 0!\n",
        "print(xs[1])    # Returns the second element with index 1.\n",
        "print(xs[-1])   # Negative indices count from the end of the list; namely the last element here."
      ],
      "metadata": {
        "id": "Cr4IhHbVfQ4U"
      },
      "execution_count": null,
      "outputs": []
    },
    {
      "cell_type": "markdown",
      "source": [
        "These are what we call <font color=\"springgreen\">indices</font>."
      ],
      "metadata": {
        "id": "tpaHT3fHWpdI"
      }
    },
    {
      "cell_type": "code",
      "execution_count": null,
      "metadata": {
        "id": "UqDLHHYtjC10"
      },
      "outputs": [],
      "source": [
        "xs.append('bar') # Add a new element to the end of the list; notice that lists can contain element of different types.\n",
        "print(xs)        # Prints \"[3, 1, 2, 'bar']\"."
      ]
    },
    {
      "cell_type": "code",
      "source": [
        "xs.remove('bar') # Remove the first matching element in the list.\n",
        "print(xs)        # Prints \"[3, 1, 2]\"."
      ],
      "metadata": {
        "id": "5Dch6ggKd3w8"
      },
      "execution_count": null,
      "outputs": []
    },
    {
      "cell_type": "code",
      "execution_count": null,
      "metadata": {
        "id": "EP4hIIaFjC11"
      },
      "outputs": [],
      "source": [
        "xs.pop()         # Remove and return the last element of the list.\n",
        "print(xs)        # Prints \"[3, 1]\"."
      ]
    },
    {
      "cell_type": "markdown",
      "source": [
        "You can concatenate two lists together using the `+` operator. For example:"
      ],
      "metadata": {
        "id": "lmJ6hg69gJYX"
      }
    },
    {
      "cell_type": "code",
      "source": [
        "first = [1, 2, 3]\n",
        "second = [4, 5]\n",
        "second += first  # Equivalent to second = second + first.\n",
        "print(second)    # Prints \"[4, 5, 1, 2, 3]\"."
      ],
      "metadata": {
        "id": "QoLyRP4_gIqY"
      },
      "execution_count": null,
      "outputs": []
    },
    {
      "cell_type": "code",
      "source": [
        "second.sort()             # Sort a list from smallest to largest element.\n",
        "print(second)             # Prints \"[1, 2, 3, 4, 5]\".\n",
        "\n",
        "second.sort(reverse=True) # Sort a list from largest to smallest element.\n",
        "print(second)             # Prints \"[5, 4, 3, 2, 1]\"."
      ],
      "metadata": {
        "id": "MFIyzklxg87W"
      },
      "execution_count": null,
      "outputs": []
    },
    {
      "cell_type": "markdown",
      "metadata": {
        "id": "oT7aEWiSjC11"
      },
      "source": [
        "As usual, you can find all more information in the [documentation](https://docs.python.org/3/tutorial/datastructures.html#more-on-lists)."
      ]
    },
    {
      "cell_type": "markdown",
      "source": [
        "<font color=\"deeppink\">**[Exercise]** Edit the code cell to output `my_list` as the sorted concatenation of `list1`, `list2` and `list3`:</font>"
      ],
      "metadata": {
        "id": "p2CFjvhMhciy"
      }
    },
    {
      "cell_type": "code",
      "source": [
        "list1 = [6, 12, 5]\n",
        "list2 = [6.2, 0, 14, 1]\n",
        "list3 = [0.9]\n",
        "\n",
        "# Your implementation here...\n",
        "my_list = ...\n",
        "\n",
        "print(my_list)"
      ],
      "metadata": {
        "id": "6S7olntehbyC"
      },
      "execution_count": null,
      "outputs": []
    },
    {
      "cell_type": "code",
      "source": [
        "# Run this cell without editing it to see if you pass the tests.\n",
        "assert my_list == [14, 12, 6.2, 6, 5, 1, 0.9, 0]"
      ],
      "metadata": {
        "id": "iImeNmrMI90w"
      },
      "execution_count": null,
      "outputs": []
    },
    {
      "cell_type": "markdown",
      "metadata": {
        "id": "WyRR-U69jC11"
      },
      "source": [
        "In addition to accessing the elements in a list one at a time, Python provides concise syntax to access sublists of a list; this is known as <font color=\"springgreen\">slicing</font>. See the example below:"
      ]
    },
    {
      "cell_type": "code",
      "execution_count": null,
      "metadata": {
        "id": "lAJ-5wZDjC11"
      },
      "outputs": [],
      "source": [
        "nums = list(range(5))    # Here the range function generates a sequence of integers, 5 in this case.\n",
        "print(nums)              # Prints \"[0, 1, 2, 3, 4]\" -- Python starts counting at 0!\n",
        "\n",
        "print(nums[2:4])         # Get a slice from index 2 to 4 (exclusive); prints \"[2, 3]\".\n",
        "print(nums[2:])          # Get a slice from index 2 to the end; prints \"[2, 3, 4]\".\n",
        "print(nums[:2])          # Get a slice from the start to index 2 (exclusive); prints \"[0, 1]\".\n",
        "print(nums[:])           # Get a slice of the whole list; prints [\"0, 1, 2, 3, 4]\".\n",
        "print(nums[:-1])         # Slice indices can be negative; prints all elements except the last one."
      ]
    },
    {
      "cell_type": "markdown",
      "source": [
        "The `range()` function returns a sequence of numbers, starting from 0 by default, and increments by 1 (by default), and stops before a specified number. It can take up to three arguments: `range(start, stop, step)`. We wrap it inside `list()` here to make it of type `list` specifically."
      ],
      "metadata": {
        "id": "gDwpnWVJtOIt"
      }
    },
    {
      "cell_type": "code",
      "source": [
        "print(list(range(10)))        # Prints \"[0, 1, 2, 3, 4, 5, 6, 7, 8, 9]\".\n",
        "print(list(range(1, 11)))     # Prints \"[1, 2, 3, 4, 5, 6, 7, 8, 9, 10]\".\n",
        "print(list(range(1, 11, 2)))  # Prints \"[1, 3, 5, 7, 9]\"."
      ],
      "metadata": {
        "id": "IE6cSNFPtyZd"
      },
      "execution_count": null,
      "outputs": []
    },
    {
      "cell_type": "markdown",
      "source": [
        "<font color=\"deeppink\">**[Exercise]** Using slicing, output `my_big_list`, a list containing the three biggest numbers accross `list1`, `list2` and `list3`.\n",
        "\n",
        "*Tip: you might want to reuse the code you wrote for the previous exercise, and make just a few changes.*</font>"
      ],
      "metadata": {
        "id": "WTj8TydGU-aE"
      }
    },
    {
      "cell_type": "code",
      "source": [
        "list1 = [6, 12, 5]\n",
        "list2 = [6.2, 0, 14, 1]\n",
        "list3 = [0.9]\n",
        "\n",
        "# Your implementation here...\n",
        "my_big_list = ...\n",
        "\n",
        "print(my_big_list)"
      ],
      "metadata": {
        "collapsed": true,
        "id": "Ouh9TjyxWDDt"
      },
      "execution_count": null,
      "outputs": []
    },
    {
      "cell_type": "code",
      "source": [
        "# Run this cell without editing it to see if you pass the tests.\n",
        "assert my_big_list == [14, 12, 6.2]"
      ],
      "metadata": {
        "id": "O14VJto5Iple"
      },
      "execution_count": null,
      "outputs": []
    },
    {
      "cell_type": "markdown",
      "metadata": {
        "id": "rFy4pZicjC12"
      },
      "source": [
        "##### 2.3.4.1 Loops"
      ]
    },
    {
      "cell_type": "markdown",
      "metadata": {
        "id": "ZU3XkDr_jC12"
      },
      "source": [
        " A <font color=\"springgreen\">for-loop</font> allows you to iterate over the elements of a list (or other types of collections) in the following way:"
      ]
    },
    {
      "cell_type": "code",
      "execution_count": null,
      "metadata": {
        "id": "9bCKJJGLjC12"
      },
      "outputs": [],
      "source": [
        "animals = ['cat', 'dog', 'monkey']\n",
        "for animal in animals:\n",
        "    print(animal)"
      ]
    },
    {
      "cell_type": "markdown",
      "metadata": {
        "id": "KQqAGVmMjC12"
      },
      "source": [
        "If you want access to the <font color=\"springgreen\">index</font> of each element within the body of a loop, you can use the built-in `enumerate()` function:"
      ]
    },
    {
      "cell_type": "code",
      "execution_count": null,
      "metadata": {
        "id": "l85xLb9UjC12"
      },
      "outputs": [],
      "source": [
        "animals = ['cat', 'dog', 'monkey']\n",
        "for idx, animal in enumerate(animals):\n",
        "    print(f'{idx}: {animal}')"
      ]
    },
    {
      "cell_type": "markdown",
      "source": [
        "**Note that there exists another type of loop called the <font color=\"springgreen\">while-loop</font> which allows you to repeat a block of code until a condition is no longer true.** The code cell below outputs exactly the same thing as the one above, try to understand how it works."
      ],
      "metadata": {
        "id": "YmL1Heinhcdq"
      }
    },
    {
      "cell_type": "code",
      "source": [
        "animals = ['cat', 'dog', 'monkey']\n",
        "idx = 0\n",
        "while idx < len(animals):\n",
        "  print(f'{idx}: {animals[idx]}')\n",
        "  idx += 1"
      ],
      "metadata": {
        "id": "qpl6ADRaid8y"
      },
      "execution_count": null,
      "outputs": []
    },
    {
      "cell_type": "markdown",
      "source": [
        "<font color=\"orange\">**[Optional]** Write a program to print the following number pattern using a loop.\n",
        "```text {\n",
        "1\n",
        "1 2\n",
        "1 2 3\n",
        "1 2 3 4\n",
        "1 2 3 4 5\n",
        "```"
      ],
      "metadata": {
        "id": "VE-9u9fdofZS"
      }
    },
    {
      "cell_type": "code",
      "source": [
        "# Your implementation here..."
      ],
      "metadata": {
        "id": "aqBWXIWmpywn"
      },
      "execution_count": null,
      "outputs": []
    },
    {
      "cell_type": "markdown",
      "metadata": {
        "id": "KQ_ShSSzjC12"
      },
      "source": [
        "##### 2.3.4.2 List comprehensions"
      ]
    },
    {
      "cell_type": "markdown",
      "metadata": {
        "id": "_eqcYALZjC12"
      },
      "source": [
        "When programming, frequently we want to transform one type of data into another. As a simple example, consider the following code that computes square numbers:"
      ]
    },
    {
      "cell_type": "code",
      "execution_count": null,
      "metadata": {
        "id": "EsFXRMrRjC13"
      },
      "outputs": [],
      "source": [
        "nums = [0, 1, 2, 3, 4]\n",
        "\n",
        "squares = []\n",
        "for x in nums:\n",
        "    squares.append(x ** 2)\n",
        "\n",
        "print(squares)                   # Prints \"[0, 1, 4, 9, 16]\"."
      ]
    },
    {
      "cell_type": "markdown",
      "metadata": {
        "id": "KtLusljnjC13"
      },
      "source": [
        "You can make this code simpler using what we call a <font color=\"springgreen\">list comprehension</font>:"
      ]
    },
    {
      "cell_type": "code",
      "execution_count": null,
      "metadata": {
        "id": "k6KezQ0VjC13"
      },
      "outputs": [],
      "source": [
        "nums = [0, 1, 2, 3, 4]\n",
        "\n",
        "squares = [x ** 2 for x in nums]  # A list comprehension: for every element in the list nums, square that element.\n",
        "\n",
        "print(squares)                    # Prints \"[0, 1, 4, 9, 16]\"."
      ]
    },
    {
      "cell_type": "markdown",
      "metadata": {
        "id": "a1KsSzSMjC13"
      },
      "source": [
        "List comprehensions can also contain conditions.\n",
        "\n",
        "The example below computes the squares of all the even numbers (i.e. numbers divisible by 2) in the list `nums`:"
      ]
    },
    {
      "cell_type": "code",
      "execution_count": null,
      "metadata": {
        "id": "tS9Vj4wKjC13"
      },
      "outputs": [],
      "source": [
        "nums = [0, 1, 2, 3, 4]\n",
        "\n",
        "even_squares = [x ** 2 for x in nums if x % 2 == 0]\n",
        "\n",
        "print(even_squares)               # Prints \"[0, 4, 16]\"."
      ]
    },
    {
      "cell_type": "markdown",
      "source": [
        "<font color=\"deeppink\">**[Exercise]** Using a list comprehension with conditions (as above), print all of the numbers from between 1 and 1000 that are divisible by 52.\n",
        "\n",
        "*Tip: you might want to use the* `range()` *function which we introduced in the beginning of 2.3.4.*</font>"
      ],
      "metadata": {
        "id": "vNT8TiFJZJ4i"
      }
    },
    {
      "cell_type": "code",
      "source": [
        "# Your implementation here...\n",
        "divisible_by_8 = ..."
      ],
      "metadata": {
        "id": "9H_A5joHr5fY"
      },
      "execution_count": null,
      "outputs": []
    },
    {
      "cell_type": "code",
      "source": [
        "# Run this cell without editing it to see if you pass the tests.\n",
        "assert divisible_by_8 == [52, 104, 156, 208, 260, 312, 364, 416, 468, 520, 572, 624, 676, 728, 780, 832, 884, 936, 988]"
      ],
      "metadata": {
        "id": "m5L50xitIkYD"
      },
      "execution_count": null,
      "outputs": []
    },
    {
      "cell_type": "markdown",
      "metadata": {
        "id": "sgF3EkcQjC13"
      },
      "source": [
        "#### 2.3.5 Dictionaries"
      ]
    },
    {
      "cell_type": "markdown",
      "metadata": {
        "id": "JMPlJ2b6jC13"
      },
      "source": [
        "A <font color=\"springgreen\">dictionary</font> stores (key, value) pairs. You can define a dictionary in the following way:"
      ]
    },
    {
      "cell_type": "code",
      "execution_count": null,
      "metadata": {
        "id": "EA-96TLSjC13"
      },
      "outputs": [],
      "source": [
        "# Create a new dictionary called description with some data about animals.\n",
        "description = {\n",
        "    'cat': 'cute',\n",
        "    'dog': 'furry'\n",
        "}"
      ]
    },
    {
      "cell_type": "markdown",
      "source": [
        "Dictionary is the most widely used data structure, and it is necessary to understand its methods and operations."
      ],
      "metadata": {
        "id": "i_ggBh3R9jql"
      }
    },
    {
      "cell_type": "code",
      "source": [
        "print('cat' in description)    # Check if a dictionary has a given key; prints \"True\".\n",
        "print(description['cat'])      # Get a value from the dictionary using the key \"cat\"; prints \"cute\"."
      ],
      "metadata": {
        "id": "kd0ZdTb29aVt"
      },
      "execution_count": null,
      "outputs": []
    },
    {
      "cell_type": "code",
      "execution_count": null,
      "metadata": {
        "id": "OB1gl96cjC13"
      },
      "outputs": [],
      "source": [
        "description['fish'] = 'wet'    # Add an entry to the dictionary.\n",
        "print(description['fish'])     # Prints \"wet\"."
      ]
    },
    {
      "cell_type": "code",
      "execution_count": null,
      "metadata": {
        "id": "YkUKwU0RjC13"
      },
      "outputs": [],
      "source": [
        "print(description['monkey'])  # Returns a KeyError: 'monkey' not a key of d."
      ]
    },
    {
      "cell_type": "code",
      "execution_count": null,
      "metadata": {
        "id": "Y3kwn_1NjC14"
      },
      "outputs": [],
      "source": [
        "print(description.get('monkey', 'none'))  # Get an element with a default; prints \"none\".\n",
        "print(description.get('fish', 'none'))    # Get an element with a default; prints \"wet\"."
      ]
    },
    {
      "cell_type": "code",
      "execution_count": null,
      "metadata": {
        "id": "BCluOsCvjC14"
      },
      "outputs": [],
      "source": [
        "del description['fish']               # Remove the \"fish\" element.\n",
        "print(description.get('fish', 'none'))    # \"fish\" is no longer a key; prints \"none\"."
      ]
    },
    {
      "cell_type": "markdown",
      "source": [
        "Similarly to lists (section 2.3.4.1), it is easy to iterate over the keys in a dictionary:"
      ],
      "metadata": {
        "id": "Wou3x6on0McQ"
      }
    },
    {
      "cell_type": "code",
      "execution_count": null,
      "metadata": {
        "id": "lupdgFw8jC14"
      },
      "outputs": [],
      "source": [
        "animal2legs = {\n",
        "    'person': 2,\n",
        "    'cat': 4,\n",
        "    'spider': 8\n",
        "}\n",
        "\n",
        "for animal in animal2legs:\n",
        "    legs = animal2legs[animal]\n",
        "    print(f'A {animal} has {legs} legs.')"
      ]
    },
    {
      "cell_type": "markdown",
      "metadata": {
        "id": "8K6YVuv5jC14"
      },
      "source": [
        "If you want access to keys and their corresponding values, use the `items()` method:"
      ]
    },
    {
      "cell_type": "code",
      "execution_count": null,
      "metadata": {
        "id": "mOVCG7CyjC14"
      },
      "outputs": [],
      "source": [
        "animal2legs = {\n",
        "    'person': 2,\n",
        "    'cat': 4,\n",
        "    'spider': 8\n",
        "}\n",
        "\n",
        "for animal, legs in animal2legs.items():\n",
        "    print(f'A {animal} has {legs} legs.')"
      ]
    },
    {
      "cell_type": "markdown",
      "metadata": {
        "id": "Lc4LS911jC14"
      },
      "source": [
        "\n",
        "Similar to list comprehensions, <font color=\"springgreen\">dictionary comprehensions</font> allow you to easily construct dictionaries. For example:"
      ]
    },
    {
      "cell_type": "code",
      "execution_count": null,
      "metadata": {
        "id": "5jw1NhQWjC14"
      },
      "outputs": [],
      "source": [
        "nums = [0, 1, 2, 3, 4]\n",
        "\n",
        "num_to_square = {x: x ** 2 for x in nums}  # Create a dictionary which maps every number in nums to its square.\n",
        "\n",
        "print(num_to_square)"
      ]
    },
    {
      "cell_type": "markdown",
      "source": [
        "<font color=\"orange\">**[Optional]** Using the lists `countries` and `capitals` and a dictionary comprehension. Create a dictionary `europe` of countries (keys) mapping to their capitals (values).</font>"
      ],
      "metadata": {
        "id": "fsTFge1n4msG"
      }
    },
    {
      "cell_type": "code",
      "source": [
        "countries = ['spain', 'france', 'germany', 'norway']\n",
        "capitals = ['madrid', 'paris', 'berlin', 'oslo']\n",
        "\n",
        "# Your implementation here...\n",
        "europe = ..."
      ],
      "metadata": {
        "id": "rjSxb0V34bMR"
      },
      "execution_count": null,
      "outputs": []
    },
    {
      "cell_type": "code",
      "source": [
        "# Run this cell without editing it to see if you pass the tests.\n",
        "assert europe == {'spain':'madrid', 'france':'paris', 'germany':'berlin', 'norway':'oslo'}"
      ],
      "metadata": {
        "id": "42I9K-iJIfjD"
      },
      "execution_count": null,
      "outputs": []
    },
    {
      "cell_type": "markdown",
      "source": [
        "You can find all you need to know about dictionaries in the [documentation](https://docs.python.org/3/library/stdtypes.html#dict).\n"
      ],
      "metadata": {
        "id": "m4RoGTOp4VMO"
      }
    },
    {
      "cell_type": "markdown",
      "metadata": {
        "id": "As8S3cH9jC14"
      },
      "source": [
        "#### 2.3.6 Sets"
      ]
    },
    {
      "cell_type": "markdown",
      "metadata": {
        "id": "zIk2ZKKtjC14"
      },
      "source": [
        "A <font color=\"springgreen\">set</font> is an **unordered** collection of **distinct** elements. We denote a set by using curly brackets `{}`. As a simple example, consider the following:"
      ]
    },
    {
      "cell_type": "code",
      "execution_count": null,
      "metadata": {
        "id": "9WJ48-ndjC15"
      },
      "outputs": [],
      "source": [
        "animals = {'cat', 'dog'}\n",
        "\n",
        "print('cat' in animals)   # Check if an element is in a set; prints \"True\".\n",
        "print('fish' in animals)  # Prints \"False\"."
      ]
    },
    {
      "cell_type": "code",
      "execution_count": null,
      "metadata": {
        "id": "B9g04JU0jC15"
      },
      "outputs": [],
      "source": [
        "animals.add('fish')       # Add an element 'fish' to a set.\n",
        "\n",
        "print('fish' in animals)\n",
        "print(animals)            # Prints \"{'dog', 'fish', 'cat'}\"."
      ]
    },
    {
      "cell_type": "code",
      "execution_count": null,
      "metadata": {
        "id": "REgmzIpSjC15"
      },
      "outputs": [],
      "source": [
        "animals.add('cat')       # Adding an element that is already in the set does nothing; sets of distinct elements.\n",
        "print(animals)           # Prints \"{'dog', 'fish', 'cat'}\".\n",
        "\n",
        "animals.remove('cat')    # Remove an element from a set.\n",
        "print(animals)           # Prints \"{'dog', 'fish'}\"."
      ]
    },
    {
      "cell_type": "markdown",
      "metadata": {
        "id": "r7NfmXDbjC15"
      },
      "source": [
        "\n",
        "Iterating over a set has the same syntax as iterating over a list; however since sets are unordered, you cannot make assumptions about the order in which you visit the elements of the set:"
      ]
    },
    {
      "cell_type": "code",
      "execution_count": null,
      "metadata": {
        "id": "4vdSuDfdjC15"
      },
      "outputs": [],
      "source": [
        "animals = {'cat', 'dog', 'fish'}\n",
        "\n",
        "for idx, animal in enumerate(animals):\n",
        "    print(f'{idx}: {animal}.')"
      ]
    },
    {
      "cell_type": "markdown",
      "metadata": {
        "id": "q1co4D4LjC15"
      },
      "source": [
        "\n",
        "Like lists and dictionaries, we can easily construct sets using <font color=\"springgreen\">set comprehensions</font>:"
      ]
    },
    {
      "cell_type": "code",
      "execution_count": null,
      "metadata": {
        "id": "ibMqBJzejC15"
      },
      "outputs": [],
      "source": [
        "print({x % 6 for x in range(30)})"
      ]
    },
    {
      "cell_type": "markdown",
      "source": [
        "<font color=\"deeppink\">**[Exercise]** Using a set comprehension, generate the set of characters that are digits contained in the string `nickname`.\n",
        "\n",
        "*Tip: you might want to use the* `isdigit()` *string method which returns* `True` *if a string is a digit (from 0 to 9),* `False` *otherwise. For example:* </font>\n",
        "\n",
        "``` python\n",
        "x = '1'\n",
        "print(x.isdigit()) # Prints \"True\".\n",
        "```"
      ],
      "metadata": {
        "id": "oc-rBQiP1ieN"
      }
    },
    {
      "cell_type": "code",
      "source": [
        "nickname = \"1am4Sup3rB0ss999\"\n",
        "\n",
        "# Your implementation here...\n",
        "digits = {...}"
      ],
      "metadata": {
        "id": "pQzLPmtk12Dh"
      },
      "execution_count": null,
      "outputs": []
    },
    {
      "cell_type": "code",
      "source": [
        "# Run this cell without editing it to see if you pass the tests.\n",
        "assert digits == {'0', '1', '3', '4', '9'}"
      ],
      "metadata": {
        "id": "3gBgZPAQIONj"
      },
      "execution_count": null,
      "outputs": []
    },
    {
      "cell_type": "markdown",
      "metadata": {
        "id": "Tp3gjp3njC15"
      },
      "source": [
        "#### 2.3.7 Tuples"
      ]
    },
    {
      "cell_type": "markdown",
      "metadata": {
        "id": "NCjQNhMnjC15"
      },
      "source": [
        "A <font color=\"springgreen\">tuple</font> is an **(immutable) ordered** list of values. A tuple is in many ways similar to a list; but tuples can also be used as keys in dictionaries and as elements of sets, while lists cannot. We denote a tuple by using curly brackets `()`. Here is a trivial example:"
      ]
    },
    {
      "cell_type": "code",
      "source": [
        "t = (5, 6)                              # Create a tuple.\n",
        "\n",
        "print(t)                                # Prints \"(5, 6)\".\n",
        "print(type(t))"
      ],
      "metadata": {
        "id": "LrmhQHzeARpH"
      },
      "execution_count": null,
      "outputs": []
    },
    {
      "cell_type": "code",
      "execution_count": null,
      "metadata": {
        "id": "4dV2wkZPjC16"
      },
      "outputs": [],
      "source": [
        "dictionary = {(x, x + 1): x for x in range(6)}  # Create a dictionary with tuple keys.\n",
        "print(dictionary)                               # Prints \"{(0, 1): 0, (1, 2): 1, (2, 3): 2, (3, 4): 3, (4, 5): 4, (5, 6): 5}\"."
      ]
    },
    {
      "cell_type": "code",
      "source": [
        "print(dictionary[t])                            # Access some of the values in the dictionary. Prints \"5.\"\n",
        "print(dictionary[(1, 2)])                       # Prints \"1\"."
      ],
      "metadata": {
        "id": "NMmYptWd-9KF"
      },
      "execution_count": null,
      "outputs": []
    },
    {
      "cell_type": "code",
      "execution_count": null,
      "metadata": {
        "id": "ZuCpEh6mjC16"
      },
      "outputs": [],
      "source": [
        "t[0] = 1  # Returns a TypeError: tuples are static/invariant/immutable: you can't change them."
      ]
    },
    {
      "cell_type": "markdown",
      "source": [
        "<font color=\"deeppink\">**[Exercise]** Which of the following statements are true (select all that apply):\n",
        "\n",
        " 1. We can remove the item from tuple but we cannot update items of the tuple.\n",
        " 2. We cannot delete the tuple.\n",
        " 3. We cannot remove the items from the tuple.\n",
        " 4. We cannot update items of the tuple."
      ],
      "metadata": {
        "id": "7LAu10JcD4V6"
      }
    },
    {
      "cell_type": "markdown",
      "source": [
        "**Write your answer here!**"
      ],
      "metadata": {
        "id": "Vz9kilm-Ec2g"
      }
    },
    {
      "cell_type": "markdown",
      "source": [
        "#### 2.3.8 Wrap-up\n",
        "\n",
        "In this section, we have introduced some of the most common data types that arise when programming in Python. With this powerful knowledge you can already go off and start building some amazing things. If this feels a bit overwhelming right now, that is really okay. Coding takes some practice, but know that when in doubt you can always come back to this notebook to review the basics. Finally, as most computer scientists will tell you: Google is your friend. You are not expected to remember all of this at all times, and there are so many amazing resources online to help you when you're stuck. Myself when writing this notebook, I've had to Google stuff and that is perfectly normal. 😊\n",
        "\n",
        "In the next section we move on to functions. You might have noticed that I have been using the word to refer to `range()` or `enumerate()`, but have not properly explained what these are or how they work."
      ],
      "metadata": {
        "id": "fMiwJ9LmA4Oz"
      }
    },
    {
      "cell_type": "markdown",
      "metadata": {
        "id": "K2IW6tAYjC16"
      },
      "source": [
        "### 2.3 Functions"
      ]
    },
    {
      "cell_type": "markdown",
      "metadata": {
        "id": "-Fm7ATWajC16"
      },
      "source": [
        "A Python <font color=\"springgreen\">function</font> is a block of code which only runs when it is called. You can pass data, known as <font color=\"springgreen\">parameters</font> or <font color=\"springgreen\">arguments</font>, into a function, and it can return data as <font color=\"springgreen\">output</font>. They are defined using the `def` keyword.\n",
        "\n",
        "For example, the function below takes a number `x` as input and returns a string indicating whether the input is positive, negative or zero:"
      ]
    },
    {
      "cell_type": "code",
      "execution_count": null,
      "metadata": {
        "id": "zrFrH6EqjC16"
      },
      "outputs": [],
      "source": [
        "def sign(x):\n",
        "    \"\"\"Function which takes a number x as input and returns a string indicating\n",
        "    whether the input is positive, negative or zero.\"\"\"\n",
        "\n",
        "    if x > 0:\n",
        "        return 'positive'\n",
        "    elif x < 0:\n",
        "        return 'negative'\n",
        "    else:\n",
        "        return 'zero'\n",
        "\n",
        "print(sign(1))  # Prints \"positive\".\n",
        "print(sign(0))  # Prints \"zero\".\n",
        "print(sign(-1)) # Prints \"negative\"."
      ]
    },
    {
      "cell_type": "markdown",
      "source": [
        "**Notice the <font color=\"springgreen\">docstring comment</font> denoted by `\"\"\"` which we introduced in section 2.2. These are typically used for documenting your functions, methods, modules and variables.**"
      ],
      "metadata": {
        "id": "4yoAWcStF3Ox"
      }
    },
    {
      "cell_type": "markdown",
      "metadata": {
        "id": "Sp2FsPq3jC16"
      },
      "source": [
        "There exists two kinds of arguments:\n",
        "1. <font color=\"springgreen\">positional arguments</font> (required),\n",
        "2. and <font color=\"springgreen\">keyword arguments</font> (optional).\n",
        "\n",
        "In the example below, `name` and `surname` are positional: you have to provide them when you call the function in the order they are written in the function header. On the other hand, `loud` is a keyword argument and takes the value `False` as default if you do not specify it."
      ]
    },
    {
      "cell_type": "code",
      "execution_count": null,
      "metadata": {
        "id": "fh1UZDRfjC16"
      },
      "outputs": [],
      "source": [
        "def hello(name, surname, loud=False):\n",
        "    if loud:\n",
        "        print(f'HELLO, {name.upper()} {surname.upper()}!')\n",
        "    else:\n",
        "        print(f'Hello, {name} {surname}!')\n",
        "\n",
        "hello('Alice', 'Wonder')           # Prints \"Hello, Alice Wonder!\"\n",
        "hello('Bob', 'Marley', loud=True)  # Prints \"HELLO, BOB MARLEY!\""
      ]
    },
    {
      "cell_type": "markdown",
      "source": [
        "<font color=\"orange\">**[Optional]** Write a Python function that sum all the numbers in an input list.</font>"
      ],
      "metadata": {
        "id": "LX7yeJdpGrsG"
      }
    },
    {
      "cell_type": "code",
      "source": [
        "def sum_list(my_list):\n",
        "     # Your implementation here...\n",
        "     return None"
      ],
      "metadata": {
        "id": "0FavoKQ9HQci"
      },
      "execution_count": null,
      "outputs": []
    },
    {
      "cell_type": "code",
      "source": [
        "# Run this cell without editing it to see if you pass the tests.\n",
        "assert sum_list([8, 2, 3, 0, 7]) == 20\n",
        "assert sum_list([\"I\", \"am\", 5]) == 5\n",
        "assert sum_list([\"I\", \"am\", \"5\"]) == 0\n",
        "assert sum_list([]) == 0"
      ],
      "metadata": {
        "id": "oIIgsmdOIKH5"
      },
      "execution_count": null,
      "outputs": []
    },
    {
      "cell_type": "markdown",
      "metadata": {
        "id": "6AFWgcb-jC16"
      },
      "source": [
        "### 2.4 Classes"
      ]
    },
    {
      "cell_type": "markdown",
      "metadata": {
        "id": "bpSoU2MKjC16"
      },
      "source": [
        "Python is an <font color=\"springgreen\">object-oriented programming language</font>. Almost everything in Python is an <font color=\"springgreen\">object</font> that comes with <font color=\"springgreen\">properties</font> and <font color=\"springgreen\">methods</font> (so far, we have encountered the `upper()` and `isdigit()` methods of strings).\n",
        "\n",
        "A <font color=\"springgreen\">class</font> is like an object constructor, or a \"blueprint\" for creating objects. The syntax for defining classes in Python is straightforward:"
      ]
    },
    {
      "cell_type": "code",
      "execution_count": null,
      "metadata": {
        "id": "jM5__I52jC16"
      },
      "outputs": [],
      "source": [
        "class Greeter: # Define an class called Greeter.\n",
        "\n",
        "    # Constructor.\n",
        "    def __init__(self, name):\n",
        "        self.name = name  # Create a property of a Greeter class.\n",
        "\n",
        "    # Create a method of the Greeter class.\n",
        "    def greet(self, loud=False):\n",
        "        if loud:\n",
        "            print(f'HELLO, {self.name.upper()}')\n",
        "        else:\n",
        "            print(f'Hello, {self.name}!')"
      ]
    },
    {
      "cell_type": "markdown",
      "source": [
        "Let us try it out:"
      ],
      "metadata": {
        "id": "ZOdXDQAYKGOU"
      }
    },
    {
      "cell_type": "code",
      "source": [
        "g = Greeter('Fred')  # Create an instance object of the Greeter class.\n",
        "g.greet()            # Call an instance method; prints \"Hello, Fred\".\n",
        "g.greet(loud=True)   # Call an instance method; prints \"HELLO, FRED!\"."
      ],
      "metadata": {
        "id": "sKznjU10KHxD"
      },
      "execution_count": null,
      "outputs": []
    },
    {
      "cell_type": "markdown",
      "source": [
        "Objects and classes are a very big topic in programming languages, and I do not expect you to know all about it for this course. However, it is important that you can read pre-written classes and understand how to use them as in the code cells above. I encourage you to play around with the Greeter class to familiarise yourself with it."
      ],
      "metadata": {
        "id": "fP6pBCj2jD3a"
      }
    },
    {
      "cell_type": "markdown",
      "source": [
        "<font color=\"deeppink\">**[Exercise]** In your own words, try to explain what the Greeter object is, its properties and methods."
      ],
      "metadata": {
        "id": "23LheBN5j8Tn"
      }
    },
    {
      "cell_type": "markdown",
      "source": [
        "**Write your answer here!** Keep it short (1-2 sentences)."
      ],
      "metadata": {
        "id": "RinmfiR0khAx"
      }
    },
    {
      "cell_type": "markdown",
      "metadata": {
        "id": "nQ7KMJBgjC18"
      },
      "source": [
        "### 2.5 Numpy"
      ]
    },
    {
      "cell_type": "markdown",
      "metadata": {
        "id": "JDEnTY9PjC18"
      },
      "source": [
        "<font color=\"springgreen\">Numpy</font> is the core library for scientific computing in Python. It provides a highly performant multi-dimensional <font color=\"springgreen\">array</font> object (50 times faster than traditional Python lists), and many tools for working with it. To use it, we must first import the `numpy` package:"
      ]
    },
    {
      "cell_type": "code",
      "execution_count": null,
      "metadata": {
        "id": "gSn_3lqvjC18"
      },
      "outputs": [],
      "source": [
        "import numpy as np"
      ]
    },
    {
      "cell_type": "markdown",
      "source": [
        " **Here, `as np` allows us to use the shorthand `np` to refer to the `numpy` package in subsequent lines of code.** You could have omitted it completely and just written `import numpy` (in which case you would have to write `numpy` each time you use an item from the library), or used any other shorthand you like (for e.g., \"num\", \"carrot\", etc.). It just happens that `np` is the conventionnally used shorthand."
      ],
      "metadata": {
        "id": "Khua1J2nl7of"
      }
    },
    {
      "cell_type": "markdown",
      "metadata": {
        "id": "Si-vceV2jC18"
      },
      "source": [
        "#### 2.5.1 Arrays"
      ]
    },
    {
      "cell_type": "markdown",
      "metadata": {
        "id": "AnK6XtpmjC18"
      },
      "source": [
        "A <font color=\"springgreen\">numpy array</font> is a grid of values, all of the same type, and is indexed by a tuple of non-negative integers. The number of <font color=\"springgreen\">dimensions</font> is the <font color=\"springgreen\">rank</font> of the array; the <font color=\"springgreen\">shape</font> of an array is a tuple of integers giving the size of the array along each dimension.  "
      ]
    },
    {
      "cell_type": "markdown",
      "metadata": {
        "id": "ga4_3RfajC18"
      },
      "source": [
        "We can initialize numpy arrays from nested Python lists:"
      ]
    },
    {
      "cell_type": "code",
      "execution_count": null,
      "metadata": {
        "id": "ftFWKEarjC18"
      },
      "outputs": [],
      "source": [
        "a = np.array([1, 2, 3])  # Create an array of rank 1, that is just a vector.\n",
        "b = np.array([[1,2,3],\n",
        "              [4,5,6]])   # Create a rank 2 array.\n",
        "\n",
        "print(type(a))\n",
        "print(a.shape)           # Prints the shape of the array, that is \"(3,)\".\n",
        "\n",
        "print(type(b))\n",
        "print(b.shape)           # Prints the shape of the array, that is \"(2, 3)\".\n"
      ]
    },
    {
      "cell_type": "markdown",
      "source": [
        "We can access elements of the array using square brackets:"
      ],
      "metadata": {
        "id": "7hP6WrBEolFN"
      }
    },
    {
      "cell_type": "code",
      "source": [
        "print(a[0], a[1], a[2])           # Prints the first, second and third element in the array, that is \"1 2 3\".\n",
        "print(b[0, 0], b[0, 1], b[1, 0])  # Prints the first element of the first row, the second of the first row and\n",
        "                                  # the first element of the second row third element in the array, that is \"1 2 4\"."
      ],
      "metadata": {
        "id": "n_j5bDvqoCFr"
      },
      "execution_count": null,
      "outputs": []
    },
    {
      "cell_type": "markdown",
      "source": [
        "And modify elements much like we did with lists:"
      ],
      "metadata": {
        "id": "TCsUs2mTpjwE"
      }
    },
    {
      "cell_type": "code",
      "execution_count": null,
      "metadata": {
        "id": "lE0SjdOAjC19"
      },
      "outputs": [],
      "source": [
        "a[0] = 5                 # Change the first element of the array to 5.\n",
        "b[1, 1] = 0              # Change the second element of the second row of the array to 0.\n",
        "\n",
        "print(a)                 # Prints \"[5 2 3]\".\n",
        "print(b)                 # Prints \"[[1 2 3] [4 0 6]]\"."
      ]
    },
    {
      "cell_type": "markdown",
      "metadata": {
        "id": "kXepn61ijC19"
      },
      "source": [
        "Numpy also provides many functions to create arrays:"
      ]
    },
    {
      "cell_type": "code",
      "execution_count": null,
      "metadata": {
        "id": "OOu608hvjC19"
      },
      "outputs": [],
      "source": [
        "a = np.zeros((2,2))   # Create a 2x2 array of all zeros.\n",
        "print(a)"
      ]
    },
    {
      "cell_type": "code",
      "execution_count": null,
      "metadata": {
        "id": "g9GORqsZjC19"
      },
      "outputs": [],
      "source": [
        "b = np.ones((1,2))    # Create a 1x2 array of all ones.\n",
        "print(b)"
      ]
    },
    {
      "cell_type": "code",
      "execution_count": null,
      "metadata": {
        "id": "bkO7PmCrjC19"
      },
      "outputs": [],
      "source": [
        "c = np.full((2,2), 7) # Create a 2x2 constant array.\n",
        "print(c )"
      ]
    },
    {
      "cell_type": "code",
      "execution_count": null,
      "metadata": {
        "id": "ieTCRviljC19"
      },
      "outputs": [],
      "source": [
        "d = np.eye(2)         # Create a 2x2 identity matrix (if you have not studied matrices yet that is okay).\n",
        "print(d)"
      ]
    },
    {
      "cell_type": "code",
      "execution_count": null,
      "metadata": {
        "id": "EKFhmPYjjC19"
      },
      "outputs": [],
      "source": [
        "e = np.random.random((2,2)) # Create a 2x2 array filled with random values.\n",
        "print(e)"
      ]
    },
    {
      "cell_type": "markdown",
      "metadata": {
        "id": "T0_zx3r6jC1_"
      },
      "source": [
        "**Note that every numpy array is a grid of elements of the same type.**\n",
        "\n",
        "Numpy provides a large set of numeric datatypes that you can use to construct arrays. Numpy tries to guess a datatype when you create an array, but functions that construct arrays usually also include an optional argument to explicitly specify the datatype. Here is an example:"
      ]
    },
    {
      "cell_type": "code",
      "execution_count": null,
      "metadata": {
        "id": "5gdvrRSMjC1_"
      },
      "outputs": [],
      "source": [
        "x = np.array([1, 2])                  # Let numpy choose the datatype.\n",
        "y = np.array([1.0, 2.0])              # Let numpy choose the datatype.\n",
        "z = np.array([1, 2], dtype=np.int64)  # Force a particular datatype.\n",
        "\n",
        "print(x.dtype, y.dtype, z.dtype)      # Prints \"int64 float64 int64\"."
      ]
    },
    {
      "cell_type": "markdown",
      "metadata": {
        "id": "lHkEH1w1jC1_"
      },
      "source": [
        "You can read all about numpy datatypes in the [documentation](http://docs.scipy.org/doc/numpy/reference/arrays.dtypes.html)."
      ]
    },
    {
      "cell_type": "markdown",
      "metadata": {
        "id": "4w38RSrHjC1_"
      },
      "source": [
        "#### 2.5.2 Math"
      ]
    },
    {
      "cell_type": "markdown",
      "metadata": {
        "id": "TJHSyurWjC1_"
      },
      "source": [
        "Basic math functions operate elementwise on arrays, and are available both as operators and as functions in the `numpy` module:"
      ]
    },
    {
      "cell_type": "code",
      "execution_count": null,
      "metadata": {
        "id": "mfAvWj5SjC1_"
      },
      "outputs": [],
      "source": [
        "x = np.array([[1,2],[3,4]], dtype=np.float64)\n",
        "y = np.array([[5,6],[7,8]], dtype=np.float64)\n",
        "\n",
        "# Elementwise sum; both produce the same array.\n",
        "print(x + y)\n",
        "print(np.add(x, y))"
      ]
    },
    {
      "cell_type": "code",
      "execution_count": null,
      "metadata": {
        "id": "D18gm-D8jC1_"
      },
      "outputs": [],
      "source": [
        "# Elementwise difference; both produce the same array.\n",
        "print(x - y)\n",
        "print(np.subtract(x, y))"
      ]
    },
    {
      "cell_type": "code",
      "execution_count": null,
      "metadata": {
        "id": "37WagVanjC1_"
      },
      "outputs": [],
      "source": [
        "# Elementwise product; both produce the same array.\n",
        "print(x * y)\n",
        "print(np.multiply(x, y))"
      ]
    },
    {
      "cell_type": "code",
      "execution_count": null,
      "metadata": {
        "id": "C4WV9nxxjC1_"
      },
      "outputs": [],
      "source": [
        "# Elementwise division; both produce the same array\n",
        "print(x / y)\n",
        "print(np.divide(x, y))"
      ]
    },
    {
      "cell_type": "code",
      "execution_count": null,
      "metadata": {
        "id": "U8UNJ1NLjC1_"
      },
      "outputs": [],
      "source": [
        "# Elementwise square root; produces the same array.\n",
        "print(np.sqrt(x))"
      ]
    },
    {
      "cell_type": "markdown",
      "metadata": {
        "id": "l53jYylzjC1_"
      },
      "source": [
        "**Note that `*` is elementwise multiplication, not matrix multiplication (which you might be familiar with from your A-levels).**\n",
        "\n",
        "Instead, we use the dot function to compute inner products of vectors, to multiply a vector by a matrix, and to multiply matrices. `dot()` is available both as a function in the `numpy` module and as a method of the array class:"
      ]
    },
    {
      "cell_type": "code",
      "execution_count": null,
      "metadata": {
        "id": "SWw12O6VjC2A"
      },
      "outputs": [],
      "source": [
        "x = np.array([[1,2],[3,4]])\n",
        "y = np.array([[5,6],[7,8]])\n",
        "\n",
        "v = np.array([9,10])\n",
        "w = np.array([11, 12])\n",
        "\n",
        "# Inner product of vectors; both print \"219\".\n",
        "print(v.dot(w))\n",
        "print(np.dot(v, w))"
      ]
    },
    {
      "cell_type": "code",
      "execution_count": null,
      "metadata": {
        "id": "jQu0GbwbjC2A"
      },
      "outputs": [],
      "source": [
        "# Matrix / vector product; both print the rank 1 array \"[29 67]\".\n",
        "print(x.dot(v))\n",
        "print(np.dot(x, v))"
      ]
    },
    {
      "cell_type": "code",
      "execution_count": null,
      "metadata": {
        "id": "wS-uX0ePjC2A"
      },
      "outputs": [],
      "source": [
        "# Matrix / matrix product; both print the rank 2 array \"[[19 22][43 50]]\"\n",
        "print(x.dot(y))\n",
        "print(np.dot(x, y))"
      ]
    },
    {
      "cell_type": "markdown",
      "metadata": {
        "id": "Jay3wcHzjC2A"
      },
      "source": [
        "Numpy provides many useful functions for performing computations on arrays; one of the most useful is `sum`:"
      ]
    },
    {
      "cell_type": "code",
      "execution_count": null,
      "metadata": {
        "id": "b_ECK2DHjC2A"
      },
      "outputs": [],
      "source": [
        "x = np.array([[1,2],[3,4]])\n",
        "\n",
        "print(np.sum(x))          # Compute sum of all elements; prints \"10\".\n",
        "print(np.sum(x, axis=0))  # Compute sum of each column; prints \"[4 6]\".\n",
        "print(np.sum(x, axis=1))  # Compute sum of each row; prints \"[3 7]\"."
      ]
    },
    {
      "cell_type": "markdown",
      "metadata": {
        "id": "ViF_YINDjC2A"
      },
      "source": [
        "There are many, many functions and we will likely encounter others during this course. You can find the full list of mathematical functions provided by `numpy` in the [documentation](http://docs.scipy.org/doc/numpy/reference/routines.math.html).\n",
        "\n"
      ]
    },
    {
      "cell_type": "markdown",
      "source": [
        "<font color=\"orange\">**[Optional]** Write a function which given two multidimensional Numpy arrays, computes their sum `S`  and returns a tuple with first the sum of all elements of `S`, second the sum of each column of `S` and third, the sum of each row of `S`. </font>"
      ],
      "metadata": {
        "id": "V15HBYX9vZaC"
      }
    },
    {
      "cell_type": "code",
      "source": [
        "def dot_sum_diff(a, b):\n",
        "    # Your implementatio here...\n",
        "    S = ...\n",
        "\n",
        "    return (None, None, None)"
      ],
      "metadata": {
        "id": "L6Cl-TsKwJic"
      },
      "execution_count": null,
      "outputs": []
    },
    {
      "cell_type": "code",
      "source": [
        "# Run this cell without editing it to see if you pass the tests.\n",
        "a = np.array([[1, 2], [3, 4]])\n",
        "b = np.array([[5, 6], [7, 8]])\n",
        "\n",
        "assert dot_sum_diff(a, b)[0] == 36\n",
        "assert np.array_equal(dot_sum_diff(a, b)[1], np.array([16, 20]))\n",
        "assert np.array_equal(dot_sum_diff(a, b)[1], np.array([14, 22]))"
      ],
      "metadata": {
        "id": "8oQif8mXwVF5"
      },
      "execution_count": null,
      "outputs": []
    },
    {
      "cell_type": "markdown",
      "source": [
        "Apart from computing mathematical functions using arrays, we frequently need to reshape or otherwise manipulate data in arrays. The simplest example of this type of operation is <font color=\"springgreen\">transposing</font> a matrix (interchanging the rows and columns of the matrix).\n",
        "\n",
        "To do so, simply use the `T` attribute of an array object:"
      ],
      "metadata": {
        "id": "Vgjlki2BvWhj"
      }
    },
    {
      "cell_type": "code",
      "execution_count": null,
      "metadata": {
        "id": "z_gI_VEjjC2A"
      },
      "outputs": [],
      "source": [
        "x = np.array([[1, 2], [3, 4]])\n",
        "print(x.shape)\n",
        "\n",
        "print(x.T)  # Prints the transpose of x, that is \"[[1 3] [2 4]]\".\n",
        "print(x.T.shape)"
      ]
    },
    {
      "cell_type": "code",
      "execution_count": null,
      "metadata": {
        "id": "iDdSiDOXjC2A"
      },
      "outputs": [],
      "source": [
        "v = np.array([[1,2,3]])\n",
        "print(v.shape)\n",
        "\n",
        "print(v.T)  # Prints the transpose of x, that is \"[[1][2][3]]\".\n",
        "print(v.T.shape)"
      ]
    },
    {
      "cell_type": "markdown",
      "metadata": {
        "id": "SVL7YLuFjC2A"
      },
      "source": [
        "#### <font color=\"orange\"> 2.5.2 **[Optional]** Broadcasting</font>"
      ]
    },
    {
      "cell_type": "markdown",
      "metadata": {
        "id": "Iaw7-mDnjC2A"
      },
      "source": [
        "<font color=\"springgreen\">Broadcasting</font> is a powerful mechanism that allows `numpy` to work with arrays of different shapes when performing arithmetic operations. This is quite a complicated concept, so feel free to skip this section and come back to it at a later time.\n",
        "\n",
        "Frequently we have a smaller array and a larger array, and we want to use the smaller array multiple times to perform some operation on the larger array. For example, suppose that we want to add a constant vector to each row of a matrix. We could do it like this:"
      ]
    },
    {
      "cell_type": "code",
      "execution_count": null,
      "metadata": {
        "id": "G9cAsXr7jC2A"
      },
      "outputs": [],
      "source": [
        "# We will add the vector v to each row of the matrix x, storing the result in the matrix y.\n",
        "x = np.array([[1,2,3], [4,5,6], [7,8,9], [10, 11, 12]])\n",
        "v = np.array([1, 0, 1])"
      ]
    },
    {
      "cell_type": "code",
      "source": [
        "# 1. Create an empty matrix with the same shape as x.\n",
        "y = np.empty_like(x)\n",
        "\n",
        "# 2. Add the vector v to each row of the matrix x with an explicit loop.\n",
        "for i in range(4):\n",
        "    y[i, :] = x[i, :] + v\n",
        "\n",
        "print(y)"
      ],
      "metadata": {
        "id": "huHvOmyl0i45"
      },
      "execution_count": null,
      "outputs": []
    },
    {
      "cell_type": "markdown",
      "metadata": {
        "id": "Ln6NnxnSjC2A"
      },
      "source": [
        "This works; however when the matrix `x` is very large, computing an explicit loop in Python could be slow.\n",
        "\n",
        "**Note that adding the vector v to each row of the matrix `x` is equivalent to forming a matrix `vv` by stacking multiple copies of `v` vertically, then performing elementwise summation of `x` and `vv`.**\n",
        "\n",
        "We could implement this approach like this:"
      ]
    },
    {
      "cell_type": "code",
      "execution_count": null,
      "metadata": {
        "id": "eDvfQBZpjC2A"
      },
      "outputs": [],
      "source": [
        "vv = np.tile(v, (4, 1))  # Stack 4 copies of v on top of each other.\n",
        "print(vv)                # Prints \"[[1 0 1]\n",
        "                         #          [1 0 1]\n",
        "                         #          [1 0 1]\n",
        "                         #          [1 0 1]]\"."
      ]
    },
    {
      "cell_type": "code",
      "execution_count": null,
      "metadata": {
        "id": "TuMyVQ-FjC2A"
      },
      "outputs": [],
      "source": [
        "y = x + vv  # Add x and vv elementwise.\n",
        "print(y)"
      ]
    },
    {
      "cell_type": "markdown",
      "metadata": {
        "id": "8VNg5NcwjC2A"
      },
      "source": [
        "Numpy broadcasting allows us to perform this computation without actually creating multiple copies of v. Consider this version, using broadcasting:"
      ]
    },
    {
      "cell_type": "code",
      "execution_count": null,
      "metadata": {
        "id": "5TeQM8w5jC2A"
      },
      "outputs": [],
      "source": [
        "# We will add the vector v to each row of the matrix x, storing the result in the matrix y.\n",
        "x = np.array([[1,2,3], [4,5,6], [7,8,9], [10, 11, 12]])\n",
        "v = np.array([1, 0, 1])\n",
        "\n",
        "y = x + v  # Add v to each row of x using broadcasting\n",
        "print(y)"
      ]
    },
    {
      "cell_type": "markdown",
      "metadata": {
        "id": "wX_05KKmjC2B"
      },
      "source": [
        "The line `y = x + v` works even though `x` has shape `(4, 3)` and `v` has shape `(3,)` due to broadcasting; this line works as if `v` actually had shape `(4, 3)`, where each row was a copy of `v`, and the sum was performed elementwise.\n",
        "\n"
      ]
    },
    {
      "cell_type": "markdown",
      "source": [
        "Broadcasting two arrays together follows these rules:\n",
        "\n",
        "1. If the arrays do not have the same rank, prepend the shape of the lower rank array with 1s until both shapes have the same length.\n",
        "2. The two arrays are said to be compatible in a dimension if they have the same size in the dimension, or if one of the arrays has size 1 in that dimension.\n",
        "3. The arrays can be broadcast together if they are compatible in all dimensions.\n",
        "4. After broadcasting, each array behaves as if it had shape equal to the elementwise maximum of shapes of the two input arrays.\n",
        "5. In any dimension where one array had size 1 and the other array had size greater than 1, the first array behaves as if it were copied along that dimension\n",
        "\n",
        "If this explanation does not make sense, try reading the explanation from the [documentation](http://docs.scipy.org/doc/numpy/user/basics.broadcasting.html) or this [explanation](http://wiki.scipy.org/EricsBroadcastingDoc).\n",
        "\n",
        "Functions that support broadcasting are known as universal functions. You can find the list of all universal functions in the [documentation](http://docs.scipy.org/doc/numpy/reference/ufuncs.html#available-ufuncs)."
      ],
      "metadata": {
        "id": "oouYqp7g1Hm1"
      }
    },
    {
      "cell_type": "markdown",
      "source": [
        "Below is a simple application of broadcasting:"
      ],
      "metadata": {
        "id": "neS0wxpl1eZ0"
      }
    },
    {
      "cell_type": "code",
      "execution_count": null,
      "metadata": {
        "id": "Fs2j_KLpjC2B"
      },
      "outputs": [],
      "source": [
        "# Multiply a matrix by a constant: x has shape (2, 3). Numpy treats scalars as arrays of shape ();\n",
        "# these can be broadcast together to shape (2, 3), producing the following array:\n",
        "print(x * 2)"
      ]
    },
    {
      "cell_type": "markdown",
      "source": [
        "<font color=\"orange\">**[Optional]** Fill in the blanks `____`. Feel free to search your answers in the linked documentations or using Google.</font>"
      ],
      "metadata": {
        "id": "eiiOIw7n1xxT"
      }
    },
    {
      "cell_type": "code",
      "source": [
        "nums = np.array([[1, 2, 3], [4, 5, 6], [7, 8, 9]])\n",
        "\n",
        "# Print the second row of nums.\n",
        "print(nums[____,____])\n",
        "\n",
        "# Print all elements of nums that are greater than 4.\n",
        "print(____[____ > ____])\n",
        "\n",
        "# Double every element of nums.\n",
        "nums_dbl = ____ * ____\n",
        "print(nums_dbl)\n",
        "\n",
        "# Replace the third column with the values of the second row and add 1 to every element.\n",
        "nums[____,____] = ____[____,____] + ____\n",
        "print(nums)"
      ],
      "metadata": {
        "id": "ceHl5FjW1ydE"
      },
      "execution_count": null,
      "outputs": []
    },
    {
      "cell_type": "markdown",
      "metadata": {
        "id": "rTE3WUADjC2B"
      },
      "source": [
        "Broadcasting typically makes your code more concise and faster, so you should strive to use it where possible."
      ]
    },
    {
      "cell_type": "markdown",
      "metadata": {
        "id": "UuKL8ug0jC2B"
      },
      "source": [
        "This brief overview has touched on many of the important things that you need to know about numpy, but is far from complete. Check out the [numpy reference](http://docs.scipy.org/doc/numpy/reference/) to find out much more about numpy."
      ]
    },
    {
      "cell_type": "markdown",
      "source": [
        "## <font color=\"orange\">3. **[Optional]** Resources/further reading</font>\n",
        "\n",
        "There are hundreds of excellent resources online for learning Python and/or data science. A few good ones:\n",
        "\n",
        "* CodeAcademy offers interactive programming courses for many languages and tools, including [Python](https://www.codecademy.com/learn/python) and [git](https://www.codecademy.com/learn/learn-git)\n",
        "* [A Whirlwind Tour of Python](http://www.oreilly.com/programming/free/files/a-whirlwind-tour-of-python.pdf) is an excellent intro to Python by [Jake VanderPlas](https://staff.washington.edu/jakevdp/); Jupyter notebooks are available [here](https://github.com/jakevdp/WhirlwindTourOfPython)\n",
        "* Another excellent and free online book is Allen Downey's [\"Think Python\"](http://greenteapress.com/wp/think-python-2e/)\n",
        "* Jake Vanderplas's [Python Data Science Handbook](https://github.com/jakevdp/PythonDataScienceHandbook) is also available online as a set of notebooks\n",
        "* Kaggle maintains a nice list of [data science and Python tutorials](https://www.kaggle.com/learn/overview)"
      ],
      "metadata": {
        "id": "WDdI5Fg_Kpxt"
      }
    },
    {
      "cell_type": "markdown",
      "source": [
        "## 4. Uploading your work\n",
        "\n",
        "Congrats on getting to the end! This is a lot of information, and it might seem overwhelming but don't worry you're learning some really important stuff, and if you feel like you're struggling don't worry that's what supervisions are for.\n",
        "\n",
        "<font color=\"red\">**Once you are done, remember to save the notebook in the `Lab 1` folder which sits in the `Student Work Upload` folder. This is where all of your future labs should be uploaded.**</font>\n",
        "\n",
        "See you in the next supervision!"
      ],
      "metadata": {
        "id": "500eKW11AkU0"
      }
    }
  ],
  "metadata": {
    "anaconda-cloud": {},
    "kernelspec": {
      "display_name": "Python 3 (ipykernel)",
      "language": "python",
      "name": "python3"
    },
    "language_info": {
      "codemirror_mode": {
        "name": "ipython",
        "version": 3
      },
      "file_extension": ".py",
      "mimetype": "text/x-python",
      "name": "python",
      "nbconvert_exporter": "python",
      "pygments_lexer": "ipython3",
      "version": "3.9.6"
    },
    "colab": {
      "provenance": [],
      "toc_visible": true,
      "include_colab_link": true
    }
  },
  "nbformat": 4,
  "nbformat_minor": 0
}